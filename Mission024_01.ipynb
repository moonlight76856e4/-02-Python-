{
 "cells": [
  {
   "cell_type": "code",
   "execution_count": 42,
   "metadata": {},
   "outputs": [
    {
     "name": "stdout",
     "output_type": "stream",
     "text": [
      "answer1： [['逆位', '21世界（Le Monde）']]\n"
     ]
    }
   ],
   "source": [
    "import tkinter as tk\n",
    "\n",
    "\n",
    "# 使用模組\n",
    "window = tk.Tk()\n",
    "window.title('每日塔羅日記')\n",
    "# 設定畫面大小\n",
    "window.geometry('800x600')\n",
    "window.configure(background='white')\n",
    "\n",
    "\n",
    "\n",
    "import random\n",
    "import operator\n",
    "def auto():\n",
    "    tarots=[]\n",
    "    tarot=[]\n",
    "    for i in ['正位','逆位']:\n",
    "        for j in ['00愚者（Le Fou / Le Mat）',\n",
    "                  '01魔術師（Le Bateleur）',\n",
    "                  '02女祭司（La Papesse）',\n",
    "                  \"03皇后（L'Impératrice）\",\n",
    "                  \"04皇帝（L'Empereur）\",\n",
    "                  '05教宗（Le Pape）',\n",
    "                  \"06戀人（L'Amoureux）\",\n",
    "                  '07戰車（Le Chariot）',\n",
    "                  '08力量（La Force）',\n",
    "                  \"09隱者（L'Ermite）\",\n",
    "                  '10命運之輪（Le Roue de Fortune）',\n",
    "                  '11正義（La Justice）',\n",
    "                  '12倒吊人（Le Pendu）',\n",
    "                  '13死神（La Mort）',\n",
    "                  '14節制（Tempérance）',\n",
    "                  '15惡魔（Le Diable）',\n",
    "                  '16高塔（La Maison Dieu）',\n",
    "                  \"17星星（L'Étoile）\",\n",
    "                  '18月亮（Le Lune）',\n",
    "                  '19太陽（Le Soleil）',\n",
    "                  '20審判（Le Jugement）',\n",
    "                  '21世界（Le Monde）',]:\n",
    "            tarot.append(i)\n",
    "            tarot.append(j)\n",
    "            tarots.append(tarot)\n",
    "            tarot=[]\n",
    "    return tarots\n",
    "tarot=auto()\n",
    "random.shuffle(tarot)\n",
    "li={}\n",
    "for k in ['answer1']:\n",
    "    b=random.sample(tarot,1)    \n",
    "    for s in b:\n",
    "        tarot.remove(s)\n",
    "    li.setdefault(k,b)        \n",
    "print('answer1：',sorted(li['answer1'],key=operator.itemgetter(0,1)))\n",
    "\n",
    "def auto1():\n",
    "    result = '抽牌結果: ',sorted(li['answer1'],key=operator.itemgetter(0,1))\n",
    "    result_label.configure(text=result)\n",
    "\n",
    "header_label = tk.Label(window, text='每日塔羅日記')\n",
    "header_label = tk.Label(window, text='大秘儀單張抽牌練習')\n",
    "header_label.pack()\n",
    "\n",
    "# 以下為 height_frame 群組\n",
    "height_frame = tk.Frame(window)\n",
    "# 向上對齊父元件\n",
    "height_frame.pack(side=tk.TOP)\n",
    "height_label = tk.Label(height_frame, text='日期')\n",
    "height_label.pack(side=tk.LEFT)\n",
    "height_entry = tk.Entry(height_frame)\n",
    "height_entry.pack(side=tk.LEFT)\n",
    "\n",
    "# 以下為 weight_frame 群組\n",
    "weight_frame = tk.Frame(window)\n",
    "weight_frame.pack(side=tk.TOP)\n",
    "weight_label = tk.Label(weight_frame, text='問題')\n",
    "weight_label.pack(side=tk.LEFT)\n",
    "weight_entry = tk.Entry(weight_frame)\n",
    "weight_entry.pack(side=tk.LEFT)\n",
    "\n",
    "result_label = tk.Label(window)\n",
    "result_label.pack()\n",
    "\n",
    "calculate_btn = tk.Button(window, text='抽牌結果', command=auto1)\n",
    "calculate_btn.pack()\n",
    "\n",
    "window.mainloop()"
   ]
  },
  {
   "cell_type": "code",
   "execution_count": null,
   "metadata": {},
   "outputs": [],
   "source": []
  },
  {
   "cell_type": "code",
   "execution_count": null,
   "metadata": {},
   "outputs": [],
   "source": []
  },
  {
   "cell_type": "code",
   "execution_count": null,
   "metadata": {},
   "outputs": [],
   "source": []
  }
 ],
 "metadata": {
  "kernelspec": {
   "display_name": "Python 3",
   "language": "python",
   "name": "python3"
  },
  "language_info": {
   "codemirror_mode": {
    "name": "ipython",
    "version": 3
   },
   "file_extension": ".py",
   "mimetype": "text/x-python",
   "name": "python",
   "nbconvert_exporter": "python",
   "pygments_lexer": "ipython3",
   "version": "3.7.3"
  }
 },
 "nbformat": 4,
 "nbformat_minor": 2
}
